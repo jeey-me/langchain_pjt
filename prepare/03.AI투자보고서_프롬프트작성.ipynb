{
 "cells": [
  {
   "cell_type": "markdown",
   "id": "42a20a8e",
   "metadata": {},
   "source": [
    "# llm 기본틀 만들기\n",
    "- OpenAI Key 로딩, ChatOpenAI() 객체 생성"
   ]
  },
  {
   "cell_type": "code",
   "execution_count": 1,
   "id": "0bdb8bef",
   "metadata": {},
   "outputs": [],
   "source": [
    "from dotenv import load_dotenv\n",
    "import os\n",
    "from langchain_openai import ChatOpenAI\n",
    "\n",
    "load_dotenv('../.env', override=True)\n",
    "\n",
    "api_key = os.getenv('OPENAI_API_KEY')\n",
    "# print(api_key)"
   ]
  },
  {
   "cell_type": "markdown",
   "id": "ca9d11bd",
   "metadata": {},
   "source": [
    "# 모델 객체 생성"
   ]
  },
  {
   "cell_type": "code",
   "execution_count": 2,
   "id": "72dd031d",
   "metadata": {},
   "outputs": [
    {
     "data": {
      "text/plain": [
       "ChatOpenAI(client=<openai.resources.chat.completions.completions.Completions object at 0x00000254718F30E0>, async_client=<openai.resources.chat.completions.completions.AsyncCompletions object at 0x0000025471825970>, root_client=<openai.OpenAI object at 0x00000254708176B0>, root_async_client=<openai.AsyncOpenAI object at 0x00000254718A1B80>, model_name='gpt-3.5-turbo-0125', model_kwargs={}, openai_api_key=SecretStr('**********'))"
      ]
     },
     "execution_count": 2,
     "metadata": {},
     "output_type": "execute_result"
    }
   ],
   "source": [
    "# gpt model 객체 생성\n",
    "# llm = ChatOpenAI(model=\"gpt-4o\", api_key=api_key)\n",
    "llm = ChatOpenAI(model=\"gpt-3.5-turbo-0125\", api_key=api_key)\n",
    "llm"
   ]
  },
  {
   "cell_type": "code",
   "execution_count": 3,
   "id": "5a6957c1",
   "metadata": {},
   "outputs": [],
   "source": [
    "from langchain_core.prompts import ChatPromptTemplate\n",
    "from langchain_core.output_parsers import StrOutputParser"
   ]
  },
  {
   "cell_type": "markdown",
   "id": "598143d3",
   "metadata": {},
   "source": [
    "# 시스템 프롬프트 작성"
   ]
  },
  {
   "cell_type": "markdown",
   "id": "7ca9e1b9",
   "metadata": {},
   "source": [
    "- https://github.com/f/awesome-chatgpt-prompts\n",
    "검색 : financial\n",
    "```\n",
    "Want assistance provided by qualified individuals enabled with experience on understanding charts using technical analysis tools while interpreting macroeconomic environment prevailing across world consequently assisting customers acquire long term advantages requires clear verdicts therefore seeking same through informed predictions written down precisely! First statement contains following content- \"Can you tell us what future stock market looks like based upon current conditions ?\".\n",
    "```"
   ]
  },
  {
   "cell_type": "code",
   "execution_count": 4,
   "id": "74e6db77",
   "metadata": {},
   "outputs": [],
   "source": [
    "system_prompt = \"\"\"\n",
    "Want assistance provided by qualified individuals enabled with experience on understanding charts using technical analysis tools while interpreting macroeconomic environment prevailing across world consequently assisting customers acquire long term advantages requires clear verdicts therefore seeking same through informed predictions written down precisely! First statement contains following content- “Can you tell us what future stock market looks like based upon current conditions ?\".\n",
    "\"\"\"\n",
    "user_prompt = \"{company}에 주식을 투자해도 될까요? 마크다운 형식의 투자보고서를 한글로 작성해 주세요.\""
   ]
  },
  {
   "cell_type": "markdown",
   "id": "9ab4a4fc",
   "metadata": {},
   "source": [
    "# 프롬프트 객체 생성"
   ]
  },
  {
   "cell_type": "code",
   "execution_count": 5,
   "id": "fcf75a6d",
   "metadata": {},
   "outputs": [
    {
     "data": {
      "text/plain": [
       "ChatPromptTemplate(input_variables=['company'], input_types={}, partial_variables={}, messages=[SystemMessagePromptTemplate(prompt=PromptTemplate(input_variables=[], input_types={}, partial_variables={}, template='\\nWant assistance provided by qualified individuals enabled with experience on understanding charts using technical analysis tools while interpreting macroeconomic environment prevailing across world consequently assisting customers acquire long term advantages requires clear verdicts therefore seeking same through informed predictions written down precisely! First statement contains following content- “Can you tell us what future stock market looks like based upon current conditions ?\".\\n'), additional_kwargs={}), HumanMessagePromptTemplate(prompt=PromptTemplate(input_variables=['company'], input_types={}, partial_variables={}, template='{company}에 주식을 투자해도 될까요? 마크다운 형식의 투자보고서를 한글로 작성해 주세요.'), additional_kwargs={})])"
      ]
     },
     "execution_count": 5,
     "metadata": {},
     "output_type": "execute_result"
    }
   ],
   "source": [
    "prompt = ChatPromptTemplate.from_messages([\n",
    "    (\"system\", system_prompt),\n",
    "    (\"user\", user_prompt)\n",
    "])\n",
    "prompt"
   ]
  },
  {
   "cell_type": "markdown",
   "id": "dd7ec95b",
   "metadata": {},
   "source": [
    "# OutPut 파서 객체 생성"
   ]
  },
  {
   "cell_type": "code",
   "execution_count": 6,
   "id": "9d5ca5e6",
   "metadata": {},
   "outputs": [
    {
     "data": {
      "text/plain": [
       "StrOutputParser()"
      ]
     },
     "execution_count": 6,
     "metadata": {},
     "output_type": "execute_result"
    }
   ],
   "source": [
    "output_parser = StrOutputParser()\n",
    "output_parser"
   ]
  },
  {
   "cell_type": "markdown",
   "id": "6cc01e8f",
   "metadata": {},
   "source": [
    "# LCEL로 LLM 요청 및 응답받기"
   ]
  },
  {
   "cell_type": "markdown",
   "id": "813f6832",
   "metadata": {},
   "source": [
    "- chain 구성 : LCEL(LangChain Expression Language)"
   ]
  },
  {
   "cell_type": "code",
   "execution_count": 18,
   "id": "c1378f6a",
   "metadata": {},
   "outputs": [],
   "source": [
    "# from stock_info import Stock 인식이 안될 경우 아래 코드 실행\n",
    "import sys\n",
    "import os\n",
    "\n",
    "# 상위 디렉터리(LANGCHAIN_PJT)를 경로에 추가\n",
    "sys.path.append(os.path.abspath(\"..\"))\n"
   ]
  },
  {
   "cell_type": "code",
   "execution_count": 19,
   "id": "b5f7cdb2",
   "metadata": {},
   "outputs": [
    {
     "data": {
      "text/plain": [
       "<stock_info.Stock at 0x25412daa5a0>"
      ]
     },
     "execution_count": 19,
     "metadata": {},
     "output_type": "execute_result"
    }
   ],
   "source": [
    "from stock_info import Stock\n",
    "\n",
    "# 회사 이름\n",
    "company = \"MicroSoft\"\n",
    "symbol = \"MSFT\"\n",
    "\n",
    "stock = Stock(symbol)\n",
    "stock\n"
   ]
  },
  {
   "cell_type": "code",
   "execution_count": null,
   "id": "76e819ed",
   "metadata": {},
   "outputs": [],
   "source": [
    "chain = prompt | llm | output_parser\n",
    "\n",
    "response = chain.invoke({\"company\":company})"
   ]
  },
  {
   "cell_type": "code",
   "execution_count": 8,
   "id": "8a9568b0",
   "metadata": {},
   "outputs": [
    {
     "name": "stdout",
     "output_type": "stream",
     "text": [
      "### Microsoft 주식에 대한 투자 분석\n",
      "\n",
      "#### 기업 개요:\n",
      "Microsoft (NASDAQ: MSFT)는 전세계적으로 가장 큰 소프트웨어 기업 중 하나로 자리 잡고 있습니다. 회사는 클라우드 컴퓨팅, 인공지능 및 기타 혁신 기술 분야에서 선도적인 지위를 유지하고 있으며 글로벌 시장에서 큰 영향력을 발휘하고 있습니다.\n",
      "\n",
      "#### 기술적 분석:\n",
      "Microsoft 주식은 최근 상승세를 보이고 있습니다. 이동평균선 및 상대강도지수 (RSI) 분석을 통해 주식의 추세가 강세를 유지하고 있음을 확인할 수 있습니다. 기술적 지표들은 현재 Microsoft 주식에 대한 매수 신호를 보여주고 있으며 향후 상승 가능성이 높은 것으로 보입니다.\n",
      "\n",
      "#### 기본적 분석:\n",
      "Microsoft는 안정적인 재무 상태를 유지하고 있으며 지속적으로 수익성을 향상시키고 있습니다. 회사의 클라우드 사업과 오피스 제품군은 안정적인 성장을 보여주고 있으며 향후에도 성장 가능성이 크다고 판단됩니다.\n",
      "\n",
      "#### 투자 결론:\n",
      "Microsoft는 기술적, 기본적 분석 측면에서 모두 투자 가치가 있는 기업으로 평가됩니다. 현재 주식 시장의 전반적인 상황과 Microsoft의 신제품 출시 등 다양한 요인들을 고려할 때, Microsoft 주식에 대한 투자는 장기적으로 안정적인 수익을 기대할 수 있는 좋은 기회가 될 수 있습니다.\n",
      "\n",
      "#### 투자 시 주의사항:\n",
      "그러나 주식 시장은 변동성이 높은 특성을 가지고 있기 때문에 투자할 때에는 자신의 투자 목표와 위험 감수 수준을 신중히 고려해야 합니다. 전문가와 상담하거나 투자 전략을 확립하는 데 도움을 받는 것이 중요합니다.\n",
      "\n",
      "이 보고서는 Microsoft 주식에 대한 일반적인 분석을 제공한 것이며 투자 결정을 내리실 때에는 개별적인 상황을 고려해야 합니다.\n"
     ]
    }
   ],
   "source": [
    "print(response)"
   ]
  },
  {
   "cell_type": "code",
   "execution_count": null,
   "id": "ca3aeeeb",
   "metadata": {},
   "outputs": [],
   "source": []
  },
  {
   "cell_type": "code",
   "execution_count": null,
   "id": "5d0aaa73",
   "metadata": {},
   "outputs": [],
   "source": []
  }
 ],
 "metadata": {
  "kernelspec": {
   "display_name": "lc_env",
   "language": "python",
   "name": "python3"
  },
  "language_info": {
   "codemirror_mode": {
    "name": "ipython",
    "version": 3
   },
   "file_extension": ".py",
   "mimetype": "text/x-python",
   "name": "python",
   "nbconvert_exporter": "python",
   "pygments_lexer": "ipython3",
   "version": "3.12.11"
  }
 },
 "nbformat": 4,
 "nbformat_minor": 5
}
