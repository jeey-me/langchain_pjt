{
 "cells": [
  {
   "cell_type": "markdown",
   "id": "42a20a8e",
   "metadata": {},
   "source": [
    "# llm 기본틀 만들기\n",
    "- OpenAI Key 로딩, ChatOpenAI() 객체 생성"
   ]
  },
  {
   "cell_type": "code",
   "execution_count": 29,
   "id": "0bdb8bef",
   "metadata": {},
   "outputs": [],
   "source": [
    "from dotenv import load_dotenv\n",
    "import os\n",
    "from langchain_openai import ChatOpenAI\n",
    "\n",
    "load_dotenv('../.env', override=True)\n",
    "\n",
    "api_key = os.getenv('OPENAI_API_KEY')\n",
    "# print(api_key)"
   ]
  },
  {
   "cell_type": "markdown",
   "id": "ca9d11bd",
   "metadata": {},
   "source": [
    "# 모델 객체 생성"
   ]
  },
  {
   "cell_type": "code",
   "execution_count": 30,
   "id": "72dd031d",
   "metadata": {},
   "outputs": [
    {
     "data": {
      "text/plain": [
       "ChatOpenAI(client=<openai.resources.chat.completions.completions.Completions object at 0x0000025C94CEA090>, async_client=<openai.resources.chat.completions.completions.AsyncCompletions object at 0x0000025C94CE8F50>, root_client=<openai.OpenAI object at 0x0000025C94CE8410>, root_async_client=<openai.AsyncOpenAI object at 0x0000025C94CEA3F0>, model_name='gpt-3.5-turbo-0125', model_kwargs={}, openai_api_key=SecretStr('**********'))"
      ]
     },
     "execution_count": 30,
     "metadata": {},
     "output_type": "execute_result"
    }
   ],
   "source": [
    "# gpt model 객체 생성\n",
    "# llm = ChatOpenAI(model=\"gpt-4o\", api_key=api_key)\n",
    "llm = ChatOpenAI(model=\"gpt-3.5-turbo-0125\", api_key=api_key)\n",
    "llm"
   ]
  },
  {
   "cell_type": "code",
   "execution_count": 31,
   "id": "5a6957c1",
   "metadata": {},
   "outputs": [],
   "source": [
    "from langchain_core.prompts import ChatPromptTemplate\n",
    "from langchain_core.output_parsers import StrOutputParser"
   ]
  },
  {
   "cell_type": "markdown",
   "id": "598143d3",
   "metadata": {},
   "source": [
    "# 시스템 프롬프트 작성"
   ]
  },
  {
   "cell_type": "markdown",
   "id": "7ca9e1b9",
   "metadata": {},
   "source": [
    "- https://github.com/f/awesome-chatgpt-prompts\n",
    "검색 : financial\n",
    "```\n",
    "Want assistance provided by qualified individuals enabled with experience on understanding charts using technical analysis tools while interpreting macroeconomic environment prevailing across world consequently assisting customers acquire long term advantages requires clear verdicts therefore seeking same through informed predictions written down precisely! First statement contains following content- \"Can you tell us what future stock market looks like based upon current conditions ?\".\n",
    "```"
   ]
  },
  {
   "cell_type": "code",
   "execution_count": 32,
   "id": "74e6db77",
   "metadata": {},
   "outputs": [],
   "source": [
    "system_prompt = \"\"\"\n",
    "Want assistance provided by qualified individuals enabled with experience on understanding charts using technical analysis tools while interpreting macroeconomic environment prevailing across world consequently assisting customers acquire long term advantages requires clear verdicts therefore seeking same through informed predictions written down precisely! First statement contains following content- “Can you tell us what future stock market looks like based upon current conditions ?\".\n",
    "\"\"\"\n",
    "user_prompt = \"\"\"\n",
    "    {company}에 주식을 투자해도 될까요? 마크다운 형식의 투자보고서를 한글로 작성해 주세요.\n",
    "    야래의 기본 정보, 재무제표를 참고해 마크다운 형식의 투자 보고서를 한글로 작성해 주세요.\n",
    "\n",
    "    기본정보:\n",
    "    {basic_info}\n",
    "\n",
    "    재무제표:\n",
    "    {finacial_statement}\n",
    "\"\"\""
   ]
  },
  {
   "cell_type": "markdown",
   "id": "9ab4a4fc",
   "metadata": {},
   "source": [
    "# 프롬프트 객체 생성"
   ]
  },
  {
   "cell_type": "code",
   "execution_count": 33,
   "id": "fcf75a6d",
   "metadata": {},
   "outputs": [
    {
     "data": {
      "text/plain": [
       "ChatPromptTemplate(input_variables=['basic_info', 'company', 'finacial_statement'], input_types={}, partial_variables={}, messages=[SystemMessagePromptTemplate(prompt=PromptTemplate(input_variables=[], input_types={}, partial_variables={}, template='\\nWant assistance provided by qualified individuals enabled with experience on understanding charts using technical analysis tools while interpreting macroeconomic environment prevailing across world consequently assisting customers acquire long term advantages requires clear verdicts therefore seeking same through informed predictions written down precisely! First statement contains following content- “Can you tell us what future stock market looks like based upon current conditions ?\".\\n'), additional_kwargs={}), HumanMessagePromptTemplate(prompt=PromptTemplate(input_variables=['basic_info', 'company', 'finacial_statement'], input_types={}, partial_variables={}, template='\\n    {company}에 주식을 투자해도 될까요? 마크다운 형식의 투자보고서를 한글로 작성해 주세요.\\n    야래의 기본 정보, 재무제표를 참고해 마크다운 형식의 투자 보고서를 한글로 작성해 주세요.\\n\\n    기본정보:\\n    {basic_info}\\n\\n    재무제표:\\n    {finacial_statement}\\n'), additional_kwargs={})])"
      ]
     },
     "execution_count": 33,
     "metadata": {},
     "output_type": "execute_result"
    }
   ],
   "source": [
    "prompt = ChatPromptTemplate.from_messages([\n",
    "    (\"system\", system_prompt),\n",
    "    (\"user\", user_prompt)\n",
    "])\n",
    "prompt"
   ]
  },
  {
   "cell_type": "markdown",
   "id": "dd7ec95b",
   "metadata": {},
   "source": [
    "# OutPut 파서 객체 생성"
   ]
  },
  {
   "cell_type": "code",
   "execution_count": 34,
   "id": "9d5ca5e6",
   "metadata": {},
   "outputs": [
    {
     "data": {
      "text/plain": [
       "StrOutputParser()"
      ]
     },
     "execution_count": 34,
     "metadata": {},
     "output_type": "execute_result"
    }
   ],
   "source": [
    "output_parser = StrOutputParser()\n",
    "output_parser"
   ]
  },
  {
   "cell_type": "markdown",
   "id": "6cc01e8f",
   "metadata": {},
   "source": [
    "# LCEL로 LLM 요청 및 응답받기"
   ]
  },
  {
   "cell_type": "markdown",
   "id": "813f6832",
   "metadata": {},
   "source": [
    "- chain 구성 : LCEL(LangChain Expression Language)"
   ]
  },
  {
   "cell_type": "code",
   "execution_count": 35,
   "id": "c1378f6a",
   "metadata": {},
   "outputs": [],
   "source": [
    "# from stock_info import Stock 인식이 안될 경우 아래 코드 실행\n",
    "import sys\n",
    "import os\n",
    "\n",
    "# 상위 디렉터리(LANGCHAIN_PJT)를 경로에 추가\n",
    "if '__file__' in globals():\n",
    "    # sys.path.append(os.path.dirname(os.path.abspath(__file__)))\n",
    "    sys.path.append(os.path.dirname(os.path.dirname(os.path.abspath(__file__))))\n",
    "else:\n",
    "    # 예: 노트북 환경일 경우 현재 작업 디렉토리 추가\n",
    "    sys.path.append(os.getcwd())\n"
   ]
  },
  {
   "cell_type": "code",
   "execution_count": 36,
   "id": "b5f7cdb2",
   "metadata": {},
   "outputs": [
    {
     "data": {
      "text/plain": [
       "<stock_info.Stock at 0x25c93f2d850>"
      ]
     },
     "execution_count": 36,
     "metadata": {},
     "output_type": "execute_result"
    }
   ],
   "source": [
    "from stock_info import Stock\n",
    "\n",
    "# 회사 이름\n",
    "company = \"MicroSoft\"\n",
    "symbol = \"MSFT\"\n",
    "\n",
    "stock = Stock(symbol)\n",
    "stock\n"
   ]
  },
  {
   "cell_type": "code",
   "execution_count": null,
   "id": "76e819ed",
   "metadata": {},
   "outputs": [],
   "source": [
    "\n",
    "# chain 구성 : LCEL(LangChain Expression Language)객체 생성\n",
    "chain = prompt | llm | output_parser\n",
    "\n",
    "# 회사 이름\n",
    "# company = \"MicroSoft\"\n",
    "# symbol = \"MSFT\"  # stock의 symbol 정보\n",
    "\n",
    "company = \"MicroSoft\"\n",
    "symbol = \"MSFT\"\n",
    "# 기본정보 :  basic_info\n",
    "# 재무제표: finacial_statement\n",
    "\n",
    "# stock 정보를 객체로 모듈화해서 불러오기\n",
    "from stock_info import Stock\n",
    "\n",
    "stock = Stock(symbol)\n",
    "\n",
    "req_value = {\n",
    "    \"company\":company,\n",
    "    # 기본정보 :  basic_info\n",
    "    \"basic_info\": stock.get_basic_info(),\n",
    "    # 재무제표: finacial_statement\n",
    "    \"finacial_statement\" : stock.get_financial_statement()\n",
    "            }\n",
    "\n",
    "\n",
    "response = chain.invoke(req_value)\n"
   ]
  },
  {
   "cell_type": "code",
   "execution_count": 38,
   "id": "8a9568b0",
   "metadata": {},
   "outputs": [
    {
     "name": "stdout",
     "output_type": "stream",
     "text": [
      "# Microsoft Corporation 투자보고서\n",
      "\n",
      "## 기본정보:\n",
      "- 기업명: Microsoft Corporation\n",
      "- 시가총액: 3,512,767,086,592\n",
      "- 산업: 소프트웨어 - 인프라스트럭쳐\n",
      "- 섹터: 기술\n",
      "- 정규직 종업원 수: 228,000명\n",
      "- 현재 주가: $472.62\n",
      "- 기업가치: 3,525,534,547,968\n",
      "\n",
      "## 재무제표:\n",
      "\n",
      "### 손익계산서\n",
      "| 항목               | 2024년              | 2023년              | 2022년             | 2021년             |\n",
      "|-------------------|---------------------|---------------------|--------------------|--------------------|\n",
      "| 총 수익            | $245,122,000,000    | $211,915,000,000    | $198,270,000,000  | $168,088,000,000  |\n",
      "| 총 이익            | $171,008,000,000    | $146,052,000,000    | $135,620,000,000  | $115,856,000,000  |\n",
      "| 영업 이익          | $109,433,000,000    | $88,523,000,000     | $83,383,000,000   | $69,916,000,000   |\n",
      "| 순 이익            | $88,136,000,000     | $72,361,000,000     | $72,738,000,000   | $61,271,000,000   |\n",
      "\n",
      "### 대차대조표\n",
      "| 항목                                       | 2024년              | 2023년              | 2022년             | 2021년             |\n",
      "|-------------------------------------------|---------------------|---------------------|--------------------|--------------------|\n",
      "| 총 자산                                   | $512,163,000,000    | $411,976,000,000    | $364,840,000,000  | $333,779,000,000  |\n",
      "| 순 부채 및 소수주의 이익                  | $243,686,000,000    | $205,753,000,000    | $198,298,000,000  | $191,791,000,000  |\n",
      "| 주주 자본                                 | $268,477,000,000    | $206,223,000,000    | $166,542,000,000  | $141,988,000,000  |\n",
      "\n",
      "### 현금 흐름표\n",
      "| 항목                     | 2024년              | 2023년              | 2022년             | 2021년             |\n",
      "|------------------------|---------------------|---------------------|--------------------|--------------------|\n",
      "| 영업 현금 흐름           | $118,548,000,000    | $87,582,000,000     | $89,035,000,000   | $76,740,000,000   |\n",
      "| 투자 현금 흐름           | -$96,970,000,000    | -$22,680,000,000    | -$30,311,000,000  | -$27,577,000,000  |\n",
      "| 재무 현금 흐름           | -$37,757,000,000    | -$43,935,000,000    | -$58,876,000,000  | -$48,486,000,000  |\n",
      "\n",
      "주식 투자의 적합성은 개별 투자자의 투자목표, 위험 성향, 재무 상태 등을 고려해야 합니다. 현재 Microsoft의 재무 상태는 안정적으로 보이며 연간 수익과 자본 구조가 꾸준히 성장하고 있습니다. 그러나 주가는 시장 환경 변화에 따라 변동할 수 있으므로 투자 결정을 내리실 때에는 주식 시장의 변동성과 기업 실적을 면밀히 살펴보시기 바랍니다. 가능한 한 장기적인 시각으로 투자를 고려하시고, 전문가의 조언을 참고하시는 것이 좋습니다.\n"
     ]
    }
   ],
   "source": [
    "print(response)"
   ]
  },
  {
   "cell_type": "code",
   "execution_count": null,
   "id": "ca3aeeeb",
   "metadata": {},
   "outputs": [],
   "source": []
  },
  {
   "cell_type": "code",
   "execution_count": null,
   "id": "5d0aaa73",
   "metadata": {},
   "outputs": [],
   "source": []
  }
 ],
 "metadata": {
  "kernelspec": {
   "display_name": "lc_env",
   "language": "python",
   "name": "python3"
  },
  "language_info": {
   "codemirror_mode": {
    "name": "ipython",
    "version": 3
   },
   "file_extension": ".py",
   "mimetype": "text/x-python",
   "name": "python",
   "nbconvert_exporter": "python",
   "pygments_lexer": "ipython3",
   "version": "3.12.11"
  }
 },
 "nbformat": 4,
 "nbformat_minor": 5
}
