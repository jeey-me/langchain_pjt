{
 "cells": [
  {
   "cell_type": "markdown",
   "id": "42a20a8e",
   "metadata": {},
   "source": [
    "# llm 기본틀 만들기\n",
    "- OpenAI Key 로딩, ChatOpenAI() 객체 생성"
   ]
  },
  {
   "cell_type": "code",
   "execution_count": 8,
   "id": "0bdb8bef",
   "metadata": {},
   "outputs": [],
   "source": [
    "from dotenv import load_dotenv\n",
    "import os\n",
    "from langchain_openai import ChatOpenAI\n",
    "\n",
    "load_dotenv('../.env', override=True)\n",
    "\n",
    "api_key = os.getenv('OPENAI_API_KEY')\n",
    "# print(api_key)"
   ]
  },
  {
   "cell_type": "markdown",
   "id": "ca9d11bd",
   "metadata": {},
   "source": [
    "# 모델 객체 생성"
   ]
  },
  {
   "cell_type": "code",
   "execution_count": 9,
   "id": "72dd031d",
   "metadata": {},
   "outputs": [
    {
     "data": {
      "text/plain": [
       "ChatOpenAI(client=<openai.resources.chat.completions.completions.Completions object at 0x0000024549606330>, async_client=<openai.resources.chat.completions.completions.AsyncCompletions object at 0x0000024549603EC0>, root_client=<openai.OpenAI object at 0x0000024548DFDB20>, root_async_client=<openai.AsyncOpenAI object at 0x0000024549604830>, model_name='gpt-3.5-turbo-0125', model_kwargs={}, openai_api_key=SecretStr('**********'))"
      ]
     },
     "execution_count": 9,
     "metadata": {},
     "output_type": "execute_result"
    }
   ],
   "source": [
    "# gpt model 객체 생성\n",
    "# llm = ChatOpenAI(model=\"gpt-4o\", api_key=api_key)\n",
    "llm = ChatOpenAI(model=\"gpt-3.5-turbo-0125\", api_key=api_key)\n",
    "llm"
   ]
  },
  {
   "cell_type": "code",
   "execution_count": 10,
   "id": "5a6957c1",
   "metadata": {},
   "outputs": [],
   "source": [
    "from langchain_core.prompts import ChatPromptTemplate\n",
    "from langchain_core.output_parsers import StrOutputParser"
   ]
  },
  {
   "cell_type": "markdown",
   "id": "598143d3",
   "metadata": {},
   "source": [
    "# 시스템 프롬프트 작성"
   ]
  },
  {
   "cell_type": "markdown",
   "id": "7ca9e1b9",
   "metadata": {},
   "source": [
    "- https://github.com/f/awesome-chatgpt-prompts\n",
    "검색 : financial\n",
    "```\n",
    "Want assistance provided by qualified individuals enabled with experience on understanding charts using technical analysis tools while interpreting macroeconomic environment prevailing across world consequently assisting customers acquire long term advantages requires clear verdicts therefore seeking same through informed predictions written down precisely! First statement contains following content- \"Can you tell us what future stock market looks like based upon current conditions ?\".\n",
    "```"
   ]
  },
  {
   "cell_type": "code",
   "execution_count": 11,
   "id": "74e6db77",
   "metadata": {},
   "outputs": [],
   "source": [
    "system_prompt = \"\"\"\n",
    "Want assistance provided by qualified individuals enabled with experience on understanding charts using technical analysis tools while interpreting macroeconomic environment prevailing across world consequently assisting customers acquire long term advantages requires clear verdicts therefore seeking same through informed predictions written down precisely! First statement contains following content- “Can you tell us what future stock market looks like based upon current conditions ?\".\n",
    "\"\"\"\n",
    "user_prompt = \"{company}에 주식을 투자해도 될까요? 마크다운 형식의 투자보고서를 한글로 작성해 주세요.\""
   ]
  },
  {
   "cell_type": "markdown",
   "id": "9ab4a4fc",
   "metadata": {},
   "source": [
    "# 프롬프트 객체 생성"
   ]
  },
  {
   "cell_type": "code",
   "execution_count": 12,
   "id": "fcf75a6d",
   "metadata": {},
   "outputs": [
    {
     "data": {
      "text/plain": [
       "ChatPromptTemplate(input_variables=['company'], input_types={}, partial_variables={}, messages=[SystemMessagePromptTemplate(prompt=PromptTemplate(input_variables=[], input_types={}, partial_variables={}, template='\\nWant assistance provided by qualified individuals enabled with experience on understanding charts using technical analysis tools while interpreting macroeconomic environment prevailing across world consequently assisting customers acquire long term advantages requires clear verdicts therefore seeking same through informed predictions written down precisely! First statement contains following content- “Can you tell us what future stock market looks like based upon current conditions ?\".\\n'), additional_kwargs={}), HumanMessagePromptTemplate(prompt=PromptTemplate(input_variables=['company'], input_types={}, partial_variables={}, template='{company}에 주식을 투자해도 될까요? 마크다운 형식의 투자보고서를 한글로 작성해 주세요.'), additional_kwargs={})])"
      ]
     },
     "execution_count": 12,
     "metadata": {},
     "output_type": "execute_result"
    }
   ],
   "source": [
    "prompt = ChatPromptTemplate.from_messages([\n",
    "    (\"system\", system_prompt),\n",
    "    (\"user\", user_prompt)\n",
    "])\n",
    "prompt"
   ]
  },
  {
   "cell_type": "markdown",
   "id": "dd7ec95b",
   "metadata": {},
   "source": [
    "# OutPut 파서 객체 생성"
   ]
  },
  {
   "cell_type": "code",
   "execution_count": 13,
   "id": "9d5ca5e6",
   "metadata": {},
   "outputs": [
    {
     "data": {
      "text/plain": [
       "StrOutputParser()"
      ]
     },
     "execution_count": 13,
     "metadata": {},
     "output_type": "execute_result"
    }
   ],
   "source": [
    "output_parser = StrOutputParser()\n",
    "output_parser"
   ]
  },
  {
   "cell_type": "markdown",
   "id": "6cc01e8f",
   "metadata": {},
   "source": [
    "# LCEL로 LLM 요청 및 응답받기"
   ]
  },
  {
   "cell_type": "markdown",
   "id": "813f6832",
   "metadata": {},
   "source": [
    "- chain 구성 : LCEL(LangChain Expression Language)"
   ]
  },
  {
   "cell_type": "code",
   "execution_count": 14,
   "id": "b5f7cdb2",
   "metadata": {},
   "outputs": [],
   "source": [
    "chain = prompt | llm | output_parser\n",
    "\n",
    "# 회사 이름\n",
    "company = \"MicroSoft\"\n",
    "response = chain.invoke({\"company\":company})"
   ]
  },
  {
   "cell_type": "code",
   "execution_count": 15,
   "id": "8a9568b0",
   "metadata": {},
   "outputs": [
    {
     "name": "stdout",
     "output_type": "stream",
     "text": [
      "# Microsoft 주식 투자 보고서\n",
      "\n",
      "## 투자 결론\n",
      "현재의 조건을 고려할 때, Microsoft 주식에 대한 투자는 장기적으로 안정적인 수익을 기대할 수 있는 좋은 기회로 보입니다. 기술적 분석 및 세계적인 경제 환경을 고려할 때, Microsoft는 향후 성장 가능성이 높은 기업으로 평가됩니다.\n",
      "\n",
      "## 기술적 분석\n",
      "Microsoft의 주가는 강한 상승 추세를 보여주고 있으며, 이동평균선을 통해 상승 추세가 계속될 가능성이 높습니다. 볼린저 밴드 분석을 통해 주가의 변동폭이 크지 않고 안정적인 추세를 유지하고 있습니다. RSI 지표는 현재 과매수 상태에 있지만, 장기적인 관점에서는 여전히 매수 신호를 보여줍니다.\n",
      "\n",
      "## 세계 경제 환경\n",
      "세계적으로는 디지털화와 원격 근무 환경의 확대로 인해 기술 기업들의 성장이 가속화되고 있습니다. 또한 미국의 경기 회복 및 정책적 지원으로 인해 기업들의 수익이 상승하고 있는 상황이며, 이는 기술 기업들의 주가 상승을 견인하고 있습니다.\n",
      "\n",
      "## 종합적인 판단\n",
      "Microsoft는 안정적이고 성장 가능성이 높은 기업으로 평가되며, 현재의 주식 시장 상황과 전반적인 경제 환경을 고려할 때 투자하기에 적합한 기업으로 판단됩니다. 따라서 Microsoft 주식에 투자하는 것은 장기적으로 긍정적인 수익을 기대할 수 있는 전략 중 하나일 것입니다.\n"
     ]
    }
   ],
   "source": [
    "print(response)"
   ]
  },
  {
   "cell_type": "code",
   "execution_count": null,
   "id": "ca3aeeeb",
   "metadata": {},
   "outputs": [],
   "source": []
  },
  {
   "cell_type": "code",
   "execution_count": null,
   "id": "5d0aaa73",
   "metadata": {},
   "outputs": [],
   "source": []
  }
 ],
 "metadata": {
  "kernelspec": {
   "display_name": "lc_env",
   "language": "python",
   "name": "python3"
  },
  "language_info": {
   "codemirror_mode": {
    "name": "ipython",
    "version": 3
   },
   "file_extension": ".py",
   "mimetype": "text/x-python",
   "name": "python",
   "nbconvert_exporter": "python",
   "pygments_lexer": "ipython3",
   "version": "3.12.11"
  }
 },
 "nbformat": 4,
 "nbformat_minor": 5
}
