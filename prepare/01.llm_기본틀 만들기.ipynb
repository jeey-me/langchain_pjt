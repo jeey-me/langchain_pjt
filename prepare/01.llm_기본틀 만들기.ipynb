{
 "cells": [
  {
   "cell_type": "markdown",
   "id": "42a20a8e",
   "metadata": {},
   "source": [
    "# llm 기본틀 만들기\n",
    "- OpenAI Key 로딩, ChatOpenAI() 객체 생성"
   ]
  },
  {
   "cell_type": "code",
   "execution_count": 1,
   "id": "0bdb8bef",
   "metadata": {},
   "outputs": [],
   "source": [
    "from dotenv import load_dotenv\n",
    "import os\n",
    "from langchain_openai import ChatOpenAI\n",
    "\n",
    "load_dotenv('../.env', override=True)\n",
    "\n",
    "api_key = os.getenv('OPENAI_API_KEY')\n",
    "# print(api_key)"
   ]
  },
  {
   "cell_type": "markdown",
   "id": "ca9d11bd",
   "metadata": {},
   "source": [
    "# 모델 객체 생성"
   ]
  },
  {
   "cell_type": "code",
   "execution_count": 2,
   "id": "72dd031d",
   "metadata": {},
   "outputs": [
    {
     "data": {
      "text/plain": [
       "ChatOpenAI(client=<openai.resources.chat.completions.completions.Completions object at 0x00000116A6026A50>, async_client=<openai.resources.chat.completions.completions.AsyncCompletions object at 0x00000116A64BB620>, root_client=<openai.OpenAI object at 0x00000116A4E23650>, root_async_client=<openai.AsyncOpenAI object at 0x00000116A6024800>, model_name='gpt-3.5-turbo-0125', model_kwargs={}, openai_api_key=SecretStr('**********'))"
      ]
     },
     "execution_count": 2,
     "metadata": {},
     "output_type": "execute_result"
    }
   ],
   "source": [
    "# gpt model 객체 생성\n",
    "# llm = ChatOpenAI(model=\"gpt-4o\", api_key=api_key)\n",
    "llm = ChatOpenAI(model=\"gpt-3.5-turbo-0125\", api_key=api_key)\n",
    "llm"
   ]
  },
  {
   "cell_type": "code",
   "execution_count": 12,
   "id": "5a6957c1",
   "metadata": {},
   "outputs": [],
   "source": [
    "from langchain_core.prompts import ChatPromptTemplate\n",
    "from langchain_core.output_parsers import StrOutputParser"
   ]
  },
  {
   "cell_type": "markdown",
   "id": "598143d3",
   "metadata": {},
   "source": [
    "# 시스템 프롬프트 작성"
   ]
  },
  {
   "cell_type": "markdown",
   "id": "7ca9e1b9",
   "metadata": {},
   "source": [
    "- https://github.com/f/awesome-chatgpt-prompts\n",
    "검색 : financial\n",
    "```\n",
    "Want assistance provided by qualified individuals enabled with experience on understanding charts using technical analysis tools while interpreting macroeconomic environment prevailing across world consequently assisting customers acquire long term advantages requires clear verdicts therefore seeking same through informed predictions written down precisely! First statement contains following content- \"Can you tell us what future stock market looks like based upon current conditions ?\".\n",
    "```"
   ]
  },
  {
   "cell_type": "code",
   "execution_count": 1,
   "id": "74e6db77",
   "metadata": {},
   "outputs": [],
   "source": [
    "system_prompt = \"\"\"\n",
    "Want assistance provided by qualified individuals enabled with experience on understanding charts using technical analysis tools while interpreting macroeconomic environment prevailing across world consequently assisting customers acquire long term advantages requires clear verdicts therefore seeking same through informed predictions written down precisely! First statement contains following content- “Can you tell us what future stock market looks like based upon current conditions ?\".\n",
    "\"\"\"\n",
    "user_prompt = \"{company}에 주식을 투자해도 될까요? 마크다운 형식의 투자보고서를 한글로 작성해 주세요.\""
   ]
  },
  {
   "cell_type": "markdown",
   "id": "9ab4a4fc",
   "metadata": {},
   "source": [
    "# 프롬프트 객체 생성"
   ]
  },
  {
   "cell_type": "code",
   "execution_count": 14,
   "id": "fcf75a6d",
   "metadata": {},
   "outputs": [
    {
     "data": {
      "text/plain": [
       "ChatPromptTemplate(input_variables=['company'], input_types={}, partial_variables={}, messages=[SystemMessagePromptTemplate(prompt=PromptTemplate(input_variables=[], input_types={}, partial_variables={}, template='\\nWant assistance provided by qualified individuals enabled with experience on understanding charts using technical analysis tools while interpreting macroeconomic environment prevailing across world consequently assisting customers acquire long term advantages requires clear verdicts therefore seeking same through informed predictions written down precisely! First statement contains following content- “Can you tell us what future stock market looks like based upon current conditions ?\".\\n'), additional_kwargs={}), HumanMessagePromptTemplate(prompt=PromptTemplate(input_variables=['company'], input_types={}, partial_variables={}, template='{company}에 주식을 투자해도 될까요? 마크다운 형식의 투자보고서를 한글로 작성해 주세요.'), additional_kwargs={})])"
      ]
     },
     "execution_count": 14,
     "metadata": {},
     "output_type": "execute_result"
    }
   ],
   "source": [
    "prompt = ChatPromptTemplate.from_messages([\n",
    "    (\"system\", system_prompt),\n",
    "    (\"user\", user_prompt)\n",
    "])\n",
    "prompt"
   ]
  },
  {
   "cell_type": "markdown",
   "id": "dd7ec95b",
   "metadata": {},
   "source": [
    "# OutPut 파서 객체 생성"
   ]
  },
  {
   "cell_type": "code",
   "execution_count": 15,
   "id": "9d5ca5e6",
   "metadata": {},
   "outputs": [
    {
     "data": {
      "text/plain": [
       "StrOutputParser()"
      ]
     },
     "execution_count": 15,
     "metadata": {},
     "output_type": "execute_result"
    }
   ],
   "source": [
    "output_parser = StrOutputParser()\n",
    "output_parser"
   ]
  },
  {
   "cell_type": "markdown",
   "id": "6cc01e8f",
   "metadata": {},
   "source": [
    "# LCEL로 LLM 요청 및 응답받기"
   ]
  },
  {
   "cell_type": "markdown",
   "id": "813f6832",
   "metadata": {},
   "source": [
    "- chain 구성 : LCEL(LangChain Expression Language)"
   ]
  },
  {
   "cell_type": "code",
   "execution_count": 16,
   "id": "b5f7cdb2",
   "metadata": {},
   "outputs": [],
   "source": [
    "chain = prompt | llm | output_parser\n",
    "\n",
    "# 회사 이름\n",
    "company = \"MicroSoft\"\n",
    "response = chain.invoke({\"company\":company})"
   ]
  },
  {
   "cell_type": "code",
   "execution_count": 17,
   "id": "8a9568b0",
   "metadata": {},
   "outputs": [
    {
     "name": "stdout",
     "output_type": "stream",
     "text": [
      "# 마이크로소프트(Microsoft) 투자 보고서\n",
      "\n",
      "## 개요\n",
      "마이크로소프트는 세계 최대의 소프트웨어 기업 중 하나로, 운영 체제, 생산성 소프트웨어, 클라우드 서비스 등 다양한 분야에서 사업을 운영하고 있습니다. 본 보고서는 현재 시장 상황을 바탕으로 마이크로소프트 주식에 대한 투자 가능성을 평가합니다.\n",
      "\n",
      "## 시장 분석\n",
      "\n",
      "### 1. 경제 환경\n",
      "- **글로벌 경제 성장**: 2023년 현재, 세계 경제는 인플레이션 압력과 금리 인상에도 불구하고 회복세를 보이고 있습니다. 이러한 경제 환경은 기술 주식에 긍정적인 영향을 미칠 가능성이 있습니다.\n",
      "- **통화 정책**: 중앙은행들은 인플레이션을 억제하기 위해 금리를 조정하고 있습니다. 이러한 정책은 기술 주식에 단기적으로 변동성을 증가시킬 수 있습니다.\n",
      "\n",
      "### 2. 기술 산업 동향\n",
      "- **클라우드 컴퓨팅**: 마이크로소프트의 Azure는 클라우드 시장에서 강력한 성과를 보이고 있으며, 이 부문에서의 성장은 꾸준히 예상됩니다.\n",
      "- **AI 및 머신러닝**: AI 기술에 대한 수요 증가로 인해 마이크로소프트의 관련 제품과 서비스는 향후 중요한 성과 동력이 될 것입니다.\n",
      "\n",
      "### 3. 경쟁 분석\n",
      "- 마이크로소프트는 구글, 아마존, 애플 등과 경쟁하고 있으며, 클라우드 및 생산성 소프트웨어 분야에서 여전히 강력한 시장 점유율을 유지하고 있습니다.\n",
      "\n",
      "## 기업 실적\n",
      "\n",
      "### 1. 재무 성과\n",
      "- 최근 분기 실적에서 매출과 순이익 모두 안정적인 증가를 보였습니다.\n",
      "- 클라우드 서비스 부문은 두 자릿수 성장을 기록하며 회사 전체 매출에 긍정적인 기여를 했습니다.\n",
      "\n",
      "### 2. 자산 및 부채\n",
      "- 마이크로소프트는 충분한 현금 보유 및 낮은 부채 수준을 유지하고 있어 재정적으로 안정적입니다.\n",
      "\n",
      "## 리스크 요인\n",
      "\n",
      "### 1. 거시경제적 리스크\n",
      "- 금리 인상으로 인한 자금 조달 비용 증가\n",
      "- 글로벌 경기 침체 가능성\n",
      "\n",
      "### 2. 기술 및 경쟁 리스크\n",
      "- 빠르게 변하는 기술 트렌드에 대한 적응 실패\n",
      "- 경쟁 기업의 기술 혁신\n",
      "\n",
      "## 결론 및 투자 의견\n",
      "\n",
      "마이크로소프트는 강력한 시장 위치와 다양한 성장 동력으로 인해 장기적으로 유망한 투자처로 보입니다. 특히 클라우드 서비스와 AI 기술 분야의 지속적인 발전은 회사의 미래 성장을 뒷받침할 것입니다. 하지만 단기적으로는 금리 인상 및 경제 불확실성으로 인해 변동성이 클 수 있으니, 이에 대한 적절한 리스크 관리가 필요합니다.\n",
      "\n",
      "### 최종 투자 의견: **매수 (Buy)**\n",
      "\n",
      "마이크로소프트에 대한 장기적인 투자 가치를 고려했을 때, 현재 주가는 매수 기회로 여겨집니다. 다만, 포트폴리오 분산을 통한 리스크 관리가 필요합니다.\n"
     ]
    }
   ],
   "source": [
    "print(response)"
   ]
  },
  {
   "cell_type": "code",
   "execution_count": null,
   "id": "ca3aeeeb",
   "metadata": {},
   "outputs": [],
   "source": []
  },
  {
   "cell_type": "code",
   "execution_count": null,
   "id": "5d0aaa73",
   "metadata": {},
   "outputs": [],
   "source": []
  }
 ],
 "metadata": {
  "kernelspec": {
   "display_name": "lc_env",
   "language": "python",
   "name": "python3"
  },
  "language_info": {
   "codemirror_mode": {
    "name": "ipython",
    "version": 3
   },
   "file_extension": ".py",
   "mimetype": "text/x-python",
   "name": "python",
   "nbconvert_exporter": "python",
   "pygments_lexer": "ipython3",
   "version": "3.12.11"
  }
 },
 "nbformat": 4,
 "nbformat_minor": 5
}
